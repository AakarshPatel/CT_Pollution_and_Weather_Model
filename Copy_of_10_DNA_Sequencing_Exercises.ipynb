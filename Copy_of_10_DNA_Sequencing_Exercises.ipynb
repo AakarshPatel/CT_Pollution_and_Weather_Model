{
  "cells": [
    {
      "cell_type": "markdown",
      "metadata": {
        "id": "view-in-github",
        "colab_type": "text"
      },
      "source": [
        "<a href=\"https://colab.research.google.com/github/AakarshPatel/CT_Pollution_and_Weather_Model/blob/main/Copy_of_10_DNA_Sequencing_Exercises.ipynb\" target=\"_parent\"><img src=\"https://colab.research.google.com/assets/colab-badge.svg\" alt=\"Open In Colab\"/></a>"
      ]
    },
    {
      "cell_type": "markdown",
      "metadata": {
        "id": "54J_LiXysxfj"
      },
      "source": [
        "## Honors Computational Genetics\n",
        "### Assignment 10: Parsing DNA sequence data"
      ]
    },
    {
      "cell_type": "code",
      "source": [
        "# This code mounts your google drive to this notebook so that you can access the files in the google drive folder we shared with you for this class\n",
        "from google.colab import drive\n",
        "drive.mount('/content/drive')\n",
        "!ln -s /content/drive/MyDrive/gen203/HW10/data HW10_data"
      ],
      "metadata": {
        "id": "qk1m2Zmps5Cf",
        "colab": {
          "base_uri": "https://localhost:8080/"
        },
        "outputId": "cade65f5-5aa5-4e14-c798-ba3f21e590e7"
      },
      "execution_count": null,
      "outputs": [
        {
          "output_type": "stream",
          "name": "stdout",
          "text": [
            "Mounted at /content/drive\n"
          ]
        }
      ]
    },
    {
      "cell_type": "markdown",
      "source": [
        "_The files for this assignment will be in the folder `HW10_data`_"
      ],
      "metadata": {
        "id": "RjSd-l9ktHig"
      }
    },
    {
      "cell_type": "markdown",
      "metadata": {
        "id": "9fIHKu3osxfo"
      },
      "source": [
        "#### 01"
      ]
    },
    {
      "cell_type": "markdown",
      "metadata": {
        "id": "RyvZ_Timsxfo"
      },
      "source": [
        "The French novelist Marcel Proust holds the world record for longest novel for his book _In Search of Lost Time_ while _Saccharomyces cerevisiae_ , also known as Baker’s yeast, is a microscopic fungus that is used for making bread and brewing beer and wine.\n",
        "\n",
        "Let’s compare the number of characters in Proust’s novel – including spaces, but not punctuation or newline characters – to the number of nucleotides in the yeast genome."
      ]
    },
    {
      "cell_type": "markdown",
      "metadata": {
        "id": "T3Co7OENsxfp"
      },
      "source": [
        "**(a)** Use the file `islt_proust.txt` which contains the entire novel in plain text format.\n",
        "Read through this file, strip off newline characters, and use the two lists below to help you count all characters that\n",
        "are either a letter or a space. Print your results in the following format in millions of characters:\n",
        "\n",
        "`The novel In Search of Lost Time contains ___ million characters`\n",
        "\n",
        "**NOTE: Use string formatting to only report two decimal places**\n",
        "\n",
        "_3 pts_"
      ]
    },
    {
      "cell_type": "code",
      "execution_count": null,
      "metadata": {
        "nbgrader": {
          "grade": false,
          "grade_id": "cell-654b60c1fb1a81f3",
          "locked": true,
          "schema_version": 3,
          "solution": false
        },
        "id": "LEziTLXbsxfq"
      },
      "outputs": [],
      "source": [
        "acceptableL = [' ','a','b','c','d','e','f','g','h','i','j','k','l','m','n','o','p','q','r','s','t','u','v','w','x','y','z']\n",
        "acceptableU = [' ','A','B','C','D','E','F','G','H','I','J','K','L','M','N','O','P','Q','R','S','T','U','V','W','X','Y','Z']"
      ]
    },
    {
      "cell_type": "code",
      "execution_count": null,
      "metadata": {
        "nbgrader": {
          "grade": true,
          "grade_id": "cell-78bcf50e9fde84b6",
          "locked": false,
          "points": 3,
          "schema_version": 3,
          "solution": true
        },
        "id": "kbb3_zBksxfs",
        "colab": {
          "base_uri": "https://localhost:8080/"
        },
        "outputId": "ed73a5d4-5e23-40b6-b499-11dbe9436ef0"
      },
      "outputs": [
        {
          "output_type": "stream",
          "name": "stdout",
          "text": [
            "The novel In Search of Lost Time contains 7.26 million characters\n"
          ]
        }
      ],
      "source": [
        "fh_islt_proust = open(\"/content/HW10_data/islt_proust.txt\")\n",
        "char_count = 0\n",
        "for line in fh_islt_proust:\n",
        "  line = line.strip()\n",
        "  line = list(line)\n",
        "  for letter in line:\n",
        "    if letter in acceptableL or letter in acceptableU:\n",
        "      char_count+=1\n",
        "\n",
        "char_count_millions = char_count / 1000000\n",
        "print(f\"The novel In Search of Lost Time contains {char_count_millions:.2f} million characters\")\n"
      ]
    },
    {
      "cell_type": "markdown",
      "metadata": {
        "id": "4zxnovhxsxft"
      },
      "source": [
        "**(b)** Use the FASTA file `s_cerevisiae_genome.fasta` which contains the entire yeast\n",
        "genome.\n",
        "\n",
        "**NOTE: each yeast chromosome is present as a separate sequence in this file**\n",
        "\n",
        "- Use python to calculate the genome size (i.e. the number of nucleotides in the yeast genome).\n",
        "- Do NOT count characters from lines with the sequence IDs or the newline characters\n",
        "- Print the result in the following format and use string formatting to only include two decimal places\n",
        "\n",
        "`The genome of the yeast Saccharomyces cerevisiae contains __ million nucleotides.`\n",
        "\n",
        "_3 pts_"
      ]
    },
    {
      "cell_type": "code",
      "execution_count": null,
      "metadata": {
        "nbgrader": {
          "grade": true,
          "grade_id": "cell-9e328e960aeb98d5",
          "locked": false,
          "points": 3,
          "schema_version": 3,
          "solution": true
        },
        "id": "EPX0cgNasxfu",
        "colab": {
          "base_uri": "https://localhost:8080/"
        },
        "outputId": "81e9c0e4-ac0c-440b-c94c-86403febb159"
      },
      "outputs": [
        {
          "output_type": "stream",
          "name": "stdout",
          "text": [
            "The genome of the yeast Saccharomyces cerevisiae contains 12.16 million nucleotides.\n"
          ]
        }
      ],
      "source": [
        "fh_genome = open(\"/content/HW10_data/s_cerevisiae_genome.fasta\")\n",
        "\n",
        "nucleotide_count = 0\n",
        "for line in fh_genome:\n",
        "    line = line.strip()\n",
        "    if line.startswith('>'):\n",
        "        continue\n",
        "    else:\n",
        "        nucleotide_count += len(line)\n",
        "\n",
        "fh_genome.close()\n",
        "\n",
        "nucleotide_count_millions = nucleotide_count / 1_000_000\n",
        "print(f\"The genome of the yeast Saccharomyces cerevisiae contains {nucleotide_count_millions:.2f} million nucleotides.\")\n"
      ]
    },
    {
      "cell_type": "markdown",
      "metadata": {
        "id": "lF5CHC-8sxfv"
      },
      "source": [
        "**(c)** _In Search of Lost Time_ is 4,215 pages long.\n",
        "\n",
        "- If you printed the yeast genome as a book using the same number of characters per page as _In Search of Lost Time_ , how many pages long would the book be? Use string formatting to round to the nearest whole number.\n",
        "```\n",
        "If printed, the yeast genome would require _____ pages.\n",
        "```\n",
        "\n",
        "_1 pt_"
      ]
    },
    {
      "cell_type": "code",
      "execution_count": null,
      "metadata": {
        "nbgrader": {
          "grade": true,
          "grade_id": "cell-13e63b9efe03d523",
          "locked": false,
          "points": 1,
          "schema_version": 3,
          "solution": true
        },
        "scrolled": true,
        "id": "_zrqKxcwsxfw",
        "colab": {
          "base_uri": "https://localhost:8080/"
        },
        "outputId": "6198278b-fe65-4349-bc53-3b5d94dd7a95"
      },
      "outputs": [
        {
          "output_type": "stream",
          "name": "stdout",
          "text": [
            "If printed, the yeast genome would require 7064 pages.\n"
          ]
        }
      ],
      "source": [
        "characters_per_page = char_count / 4215\n",
        "total_pages = nucleotide_count / characters_per_page\n",
        "print(f\"If printed, the yeast genome would require {total_pages:.0f} pages.\")\n"
      ]
    },
    {
      "cell_type": "markdown",
      "metadata": {
        "id": "f1vqwxdhsxfw"
      },
      "source": [
        "**(d)** The human genome contains 3.2 billion nucleotides. How many pages long would its book be? Again, use string formatting to print your answer (to the nearest whole number) as follows:\n",
        "\n",
        "`If printed, the human genome would require _____ pages.`\n",
        "\n",
        "_1 pt_"
      ]
    },
    {
      "cell_type": "code",
      "execution_count": null,
      "metadata": {
        "nbgrader": {
          "grade": true,
          "grade_id": "cell-5cffb168b6749eb0",
          "locked": false,
          "points": 1,
          "schema_version": 3,
          "solution": true
        },
        "id": "7_LqAcCIsxfx",
        "colab": {
          "base_uri": "https://localhost:8080/"
        },
        "outputId": "7b28019c-7a04-4534-8f17-59417fa0a5e9"
      },
      "outputs": [
        {
          "output_type": "stream",
          "name": "stdout",
          "text": [
            "If printed, the human genome would require 1858532 pages.\n"
          ]
        }
      ],
      "source": [
        "total_pages = 3_200_000_000 / characters_per_page\n",
        "print(f\"If printed, the human genome would require {total_pages:.0f} pages.\")"
      ]
    },
    {
      "cell_type": "markdown",
      "metadata": {
        "id": "0UhnVWGSsxfx"
      },
      "source": [
        "#### 02\n",
        "Use python to create a dictionary from the FASTA file `s_cerevisiae_genome.fasta`. The dictionary keys should be the sequence IDs and the values should be a string containing the DNA sequence **without the newline characters**.\n",
        "\n",
        "Loop through your dictionary and print each sequence ID followed by its length. Use string formatting so that your columns line up as below:\n",
        "```\n",
        "seqXYZ 10000\n",
        "seqLP   9000\n",
        "seqMNW   100\n",
        "```\n",
        "\n",
        "**NOTE: Be patient, it will take ~30 seconds for your code to run!**\n",
        "\n",
        "_5 pts_"
      ]
    },
    {
      "cell_type": "code",
      "execution_count": null,
      "metadata": {
        "nbgrader": {
          "grade": true,
          "grade_id": "cell-0c4ab09c544b60cf",
          "locked": false,
          "points": 5,
          "schema_version": 3,
          "solution": true
        },
        "id": "8aIfcue_sxfy",
        "colab": {
          "base_uri": "https://localhost:8080/"
        },
        "outputId": "dbf21d5c-70a9-4ee3-c2f2-bc763e724ace"
      },
      "outputs": [
        {
          "output_type": "stream",
          "name": "stdout",
          "text": [
            "2micron                   6318\n",
            "chrI                    230208\n",
            "chrII                   813178\n",
            "chrIII                  316617\n",
            "chrIV                  1531919\n",
            "chrIX                   439885\n",
            "chrM                     85779\n",
            "chrV                    576869\n",
            "chrVI                   270148\n",
            "chrVII                 1090947\n",
            "chrVIII                 562643\n",
            "chrX                    745742\n",
            "chrXI                   666454\n",
            "chrXII                 1078175\n",
            "chrXIII                 924429\n",
            "chrXIV                  784333\n",
            "chrXV                  1091289\n",
            "chrXVI                  948062\n"
          ]
        }
      ],
      "source": [
        "fh_genome = open(\"/content/HW10_data/s_cerevisiae_genome.fasta\")\n",
        "\n",
        "seq_dict = {}\n",
        "seq_id = ''\n",
        "seq = ''\n",
        "\n",
        "for line in fh_genome:\n",
        "    line = line.strip()\n",
        "    if len(line) > 0 and line[0] == '>':\n",
        "        if seq_id != '':\n",
        "            seq_dict[seq_id] = seq\n",
        "        seq_id = line[1:]\n",
        "        seq = ''\n",
        "    else:\n",
        "        seq += line\n",
        "\n",
        "\n",
        "if seq_id != '':\n",
        "    seq_dict[seq_id] = seq\n",
        "\n",
        "fh_genome.close()\n",
        "\n",
        "\n",
        "for ID, sequence in seq_dict.items():\n",
        "    print(f\"{ID:<20}{len(sequence):>10}\")\n"
      ]
    },
    {
      "cell_type": "markdown",
      "metadata": {
        "id": "LbdJdCMKsxfy"
      },
      "source": [
        "#### 03"
      ]
    },
    {
      "cell_type": "markdown",
      "metadata": {
        "id": "EEFuDg8-sxfy"
      },
      "source": [
        "The file `illumina.fastq` contains 20 DNA sequences in FASTQ format. Each sequence is 100bp long."
      ]
    },
    {
      "cell_type": "markdown",
      "metadata": {
        "id": "6cxBO2vYsxfz"
      },
      "source": [
        "**(a)** Use the file `illumina.fastq` for each sequence:\n",
        "\n",
        "- make a list containing the quality scores (as integers) for each nucleotide in the sequence\n",
        "- use slicing to print the quality scores for the first five bases and for the last five bases of each sequence.\n",
        "\n",
        "Your output should look like the example below:\n",
        "```\n",
        "First five: [19, 19, 31, 23, 32] Last five: [33, 26, 31, 36, 16]\n",
        "First five: [20, 20, 33, 13, 32] Last five: [19, 16, 25, 17, 32]\n",
        "First five: [20, 30, 32, 32, 14] Last five: [22, 22, 31, 21, 33]\n",
        "```\n",
        "\n",
        "_5 pts_"
      ]
    },
    {
      "cell_type": "code",
      "execution_count": null,
      "metadata": {
        "nbgrader": {
          "grade": true,
          "grade_id": "cell-0e998c5c6671a9bf",
          "locked": false,
          "points": 5,
          "schema_version": 3,
          "solution": true
        },
        "id": "JHwZyCwasxfz",
        "colab": {
          "base_uri": "https://localhost:8080/"
        },
        "outputId": "ae503db2-7cb5-4668-ad3b-3f8d2e4c80b7"
      },
      "outputs": [
        {
          "output_type": "stream",
          "name": "stdout",
          "text": [
            "First five: [32, 32, 32, 32, 32] Last five: [36, 36, 36, 36, 36]\n",
            "First five: [32, 32, 32, 32, 32] Last five: [36, 36, 36, 36, 36]\n",
            "First five: [32, 32, 32, 32, 32] Last five: [36, 32, 36, 36, 36]\n",
            "First five: [32, 32, 32, 32, 32] Last five: [36, 36, 36, 36, 36]\n",
            "First five: [32, 32, 32, 32, 32] Last five: [36, 36, 14, 32, 32]\n",
            "First five: [32, 32, 32, 32, 32] Last five: [14, 36, 36, 36, 36]\n",
            "First five: [32, 32, 32, 32, 32] Last five: [36, 36, 36, 36, 36]\n",
            "First five: [32, 32, 32, 32, 32] Last five: [36, 36, 36, 36, 36]\n",
            "First five: [32, 32, 32, 32, 32] Last five: [36, 36, 36, 36, 36]\n",
            "First five: [32, 32, 32, 32, 32] Last five: [36, 36, 36, 36, 36]\n",
            "First five: [32, 32, 32, 32, 32] Last five: [36, 32, 36, 36, 36]\n",
            "First five: [32, 32, 14, 32, 32] Last five: [32, 14, 14, 36, 36]\n",
            "First five: [21, 32, 32, 32, 32] Last five: [14, 14, 14, 14, 14]\n",
            "First five: [32, 32, 32, 32, 32] Last five: [36, 36, 36, 36, 36]\n",
            "First five: [32, 32, 32, 32, 32] Last five: [36, 36, 36, 36, 36]\n",
            "First five: [21, 32, 32, 32, 32] Last five: [32, 36, 27, 32, 36]\n",
            "First five: [32, 32, 32, 32, 32] Last five: [36, 32, 36, 32, 36]\n",
            "First five: [32, 32, 32, 32, 32] Last five: [36, 36, 36, 36, 36]\n",
            "First five: [32, 32, 32, 32, 32] Last five: [36, 36, 36, 32, 36]\n",
            "First five: [32, 32, 32, 32, 32] Last five: [32, 36, 36, 36, 36]\n"
          ]
        }
      ],
      "source": [
        "fh = open(\"/content/HW10_data/illumina.fastq\")\n",
        "\n",
        "line_number = 0\n",
        "for line in fh:\n",
        "    line_number += 1\n",
        "    line = line.strip()\n",
        "    if line_number % 4 == 0:\n",
        "\n",
        "        quality_scores = [ord(char) - 33 for char in line]\n",
        "\n",
        "        print(f\"First five: {quality_scores[:5]} Last five: {quality_scores[-5:]}\")\n",
        "\n",
        "fh.close()\n"
      ]
    },
    {
      "cell_type": "markdown",
      "metadata": {
        "id": "M4-2jb3psxfz"
      },
      "source": [
        "**(b)** Look at your output from (A). Which portion (i.e. beginning or end) of the Illumina sequences tend to be of higher quality? How are you able to tell?\n",
        "\n",
        "_2 pts_"
      ]
    },
    {
      "cell_type": "markdown",
      "metadata": {
        "nbgrader": {
          "grade": true,
          "grade_id": "cell-3af366a415f3ed60",
          "locked": false,
          "points": 2,
          "schema_version": 3,
          "solution": true
        },
        "id": "AZbZ1Bxesxf0"
      },
      "source": [
        "The end of the Illumina sequences tends to be of higher quality. This is because the Phred scores for the last few bases are generally higher than the scores for the first few bases, and higher Phred scores indicate more confidence in the base calls."
      ]
    }
  ],
  "metadata": {
    "celltoolbar": "Create Assignment",
    "kernelspec": {
      "display_name": "Python 3",
      "language": "python",
      "name": "python3"
    },
    "language_info": {
      "codemirror_mode": {
        "name": "ipython",
        "version": 3
      },
      "file_extension": ".py",
      "mimetype": "text/x-python",
      "name": "python",
      "nbconvert_exporter": "python",
      "pygments_lexer": "ipython3",
      "version": "3.7.9"
    },
    "colab": {
      "provenance": [],
      "include_colab_link": true
    }
  },
  "nbformat": 4,
  "nbformat_minor": 0
}